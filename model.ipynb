{
 "cells": [
  {
   "cell_type": "code",
   "execution_count": 1,
   "id": "23ca638a",
   "metadata": {},
   "outputs": [],
   "source": [
    "import pandas as pd"
   ]
  },
  {
   "cell_type": "code",
   "execution_count": 2,
   "id": "7b0a739c",
   "metadata": {},
   "outputs": [],
   "source": [
    "df = pd.read_csv('../../../../datasets/digit_recognition/train.csv')"
   ]
  },
  {
   "cell_type": "code",
   "execution_count": 3,
   "id": "06f36c53",
   "metadata": {},
   "outputs": [
    {
     "data": {
      "text/plain": [
       "(42000, 785)"
      ]
     },
     "execution_count": 3,
     "metadata": {},
     "output_type": "execute_result"
    }
   ],
   "source": [
    "df.shape"
   ]
  },
  {
   "cell_type": "code",
   "execution_count": 4,
   "id": "498d0762",
   "metadata": {},
   "outputs": [],
   "source": [
    "X = df.drop('label',axis=1)\n",
    "y = df['label']"
   ]
  },
  {
   "cell_type": "code",
   "execution_count": 5,
   "id": "bc496d1e",
   "metadata": {},
   "outputs": [
    {
     "data": {
      "text/plain": [
       "(42000, 784)"
      ]
     },
     "execution_count": 5,
     "metadata": {},
     "output_type": "execute_result"
    }
   ],
   "source": [
    "X.shape"
   ]
  },
  {
   "cell_type": "code",
   "execution_count": 7,
   "id": "11df64c8",
   "metadata": {},
   "outputs": [],
   "source": [
    "X = X.values.reshape(42000,28,28,1)\n",
    "X = X/255"
   ]
  },
  {
   "cell_type": "code",
   "execution_count": 9,
   "id": "5cae1ab2",
   "metadata": {},
   "outputs": [],
   "source": [
    "from tensorflow.keras.utils import to_categorical"
   ]
  },
  {
   "cell_type": "code",
   "execution_count": 10,
   "id": "aac723c5",
   "metadata": {},
   "outputs": [
    {
     "data": {
      "text/plain": [
       "(42000, 10)"
      ]
     },
     "execution_count": 10,
     "metadata": {},
     "output_type": "execute_result"
    }
   ],
   "source": [
    "y = to_categorical(y, num_classes=10)\n",
    "y.shape"
   ]
  },
  {
   "cell_type": "code",
   "execution_count": 11,
   "id": "898c834b",
   "metadata": {},
   "outputs": [],
   "source": [
    "# Model Building\n",
    "from tensorflow.keras.layers import Dense, Conv2D, MaxPool2D, Flatten\n",
    "from tensorflow.keras.models import Sequential"
   ]
  },
  {
   "cell_type": "code",
   "execution_count": 15,
   "id": "4e76fcf2",
   "metadata": {},
   "outputs": [],
   "source": [
    "model = Sequential()\n",
    "model.add(Conv2D(16,(3,3),activation='relu', input_shape=(28,28,1)))\n",
    "model.add(MaxPool2D())\n",
    "model.add(Conv2D(32,(3,3),activation='relu'))\n",
    "model.add(MaxPool2D())\n",
    "model.add(Flatten())\n",
    "model.add(Dense(10, activation='softmax'))\n",
    "\n",
    "model.compile(loss='categorical_crossentropy', metrics=['accuracy'], optimizer='adam')"
   ]
  },
  {
   "cell_type": "code",
   "execution_count": 16,
   "id": "7073c6a9",
   "metadata": {},
   "outputs": [
    {
     "name": "stdout",
     "output_type": "stream",
     "text": [
      "Model: \"sequential_2\"\n",
      "_________________________________________________________________\n",
      " Layer (type)                Output Shape              Param #   \n",
      "=================================================================\n",
      " conv2d_4 (Conv2D)           (None, 26, 26, 16)        160       \n",
      "                                                                 \n",
      " max_pooling2d_4 (MaxPooling  (None, 13, 13, 16)       0         \n",
      " 2D)                                                             \n",
      "                                                                 \n",
      " conv2d_5 (Conv2D)           (None, 11, 11, 32)        4640      \n",
      "                                                                 \n",
      " max_pooling2d_5 (MaxPooling  (None, 5, 5, 32)         0         \n",
      " 2D)                                                             \n",
      "                                                                 \n",
      " flatten_2 (Flatten)         (None, 800)               0         \n",
      "                                                                 \n",
      " dense_2 (Dense)             (None, 10)                8010      \n",
      "                                                                 \n",
      "=================================================================\n",
      "Total params: 12,810\n",
      "Trainable params: 12,810\n",
      "Non-trainable params: 0\n",
      "_________________________________________________________________\n"
     ]
    }
   ],
   "source": [
    "model.summary()"
   ]
  },
  {
   "cell_type": "code",
   "execution_count": 17,
   "id": "3b0b744b",
   "metadata": {},
   "outputs": [
    {
     "name": "stdout",
     "output_type": "stream",
     "text": [
      "Epoch 1/20\n",
      "657/657 [==============================] - 12s 15ms/step - loss: 0.3317 - accuracy: 0.9042\n",
      "Epoch 2/20\n",
      "657/657 [==============================] - 10s 15ms/step - loss: 0.0920 - accuracy: 0.9715\n",
      "Epoch 3/20\n",
      "657/657 [==============================] - 10s 15ms/step - loss: 0.0666 - accuracy: 0.9795\n",
      "Epoch 4/20\n",
      "657/657 [==============================] - 10s 15ms/step - loss: 0.0545 - accuracy: 0.9836\n",
      "Epoch 5/20\n",
      "657/657 [==============================] - 9s 14ms/step - loss: 0.0469 - accuracy: 0.9859\n",
      "Epoch 6/20\n",
      "657/657 [==============================] - 8s 13ms/step - loss: 0.0419 - accuracy: 0.9873\n",
      "Epoch 7/20\n",
      "657/657 [==============================] - 8s 12ms/step - loss: 0.0358 - accuracy: 0.9893\n",
      "Epoch 8/20\n",
      "657/657 [==============================] - 8s 12ms/step - loss: 0.0324 - accuracy: 0.9901\n",
      "Epoch 9/20\n",
      "657/657 [==============================] - 8s 13ms/step - loss: 0.0300 - accuracy: 0.9902\n",
      "Epoch 10/20\n",
      "657/657 [==============================] - 9s 14ms/step - loss: 0.0259 - accuracy: 0.9918\n",
      "Epoch 11/20\n",
      "657/657 [==============================] - 9s 14ms/step - loss: 0.0243 - accuracy: 0.9918\n",
      "Epoch 12/20\n",
      "657/657 [==============================] - 9s 14ms/step - loss: 0.0219 - accuracy: 0.9928\n",
      "Epoch 13/20\n",
      "657/657 [==============================] - 9s 14ms/step - loss: 0.0188 - accuracy: 0.9941\n",
      "Epoch 14/20\n",
      "657/657 [==============================] - 10s 15ms/step - loss: 0.0167 - accuracy: 0.9948\n",
      "Epoch 15/20\n",
      "657/657 [==============================] - 9s 13ms/step - loss: 0.0164 - accuracy: 0.9949\n",
      "Epoch 16/20\n",
      "657/657 [==============================] - 10s 15ms/step - loss: 0.0140 - accuracy: 0.9959\n",
      "Epoch 17/20\n",
      "657/657 [==============================] - 11s 17ms/step - loss: 0.0116 - accuracy: 0.9967\n",
      "Epoch 18/20\n",
      "657/657 [==============================] - 11s 16ms/step - loss: 0.0113 - accuracy: 0.9965\n",
      "Epoch 19/20\n",
      "657/657 [==============================] - 9s 13ms/step - loss: 0.0104 - accuracy: 0.9970\n",
      "Epoch 20/20\n",
      "657/657 [==============================] - 8s 13ms/step - loss: 0.0102 - accuracy: 0.9967\n"
     ]
    },
    {
     "data": {
      "text/plain": [
       "<keras.callbacks.History at 0x211d7a72bb0>"
      ]
     },
     "execution_count": 17,
     "metadata": {},
     "output_type": "execute_result"
    }
   ],
   "source": [
    "model.fit(X,y, batch_size = 64, epochs=20)"
   ]
  },
  {
   "cell_type": "code",
   "execution_count": 30,
   "id": "53e52eeb",
   "metadata": {},
   "outputs": [],
   "source": [
    "from predictions1 import predict_image"
   ]
  },
  {
   "cell_type": "code",
   "execution_count": 31,
   "id": "2e568962",
   "metadata": {},
   "outputs": [
    {
     "data": {
      "text/plain": [
       "9"
      ]
     },
     "execution_count": 31,
     "metadata": {},
     "output_type": "execute_result"
    }
   ],
   "source": [
    "predict_image('../../../../datasets/digit_recognition/my_images/0.jpg', model)"
   ]
  },
  {
   "cell_type": "code",
   "execution_count": 33,
   "id": "0bc1e33c",
   "metadata": {},
   "outputs": [
    {
     "name": "stdout",
     "output_type": "stream",
     "text": [
      "0.jpg \t\t 9\n",
      "00.jpg \t\t 0\n",
      "1.jpg \t\t 1\n",
      "11.jpg \t\t 1\n",
      "2.jpg \t\t 2\n",
      "22.jpg \t\t 2\n",
      "3.jpg \t\t 3\n",
      "33.jpg \t\t 3\n",
      "4.jpg \t\t 4\n",
      "44.jpg \t\t 8\n",
      "5.jpg \t\t 5\n",
      "55.jpg \t\t 5\n",
      "6.jpg \t\t 5\n",
      "66.jpg \t\t 6\n",
      "7.jpg \t\t 2\n",
      "77.jpg \t\t 3\n",
      "8.jpg \t\t 8\n",
      "88.jpg \t\t 3\n",
      "9.jpg \t\t 3\n",
      "99.jpg \t\t 3\n"
     ]
    }
   ],
   "source": [
    "import os\n",
    "files = os.listdir('../../../../datasets/digit_recognition/my_images')\n",
    "for file in files:\n",
    "    y = predict_image('../../../../datasets/digit_recognition/my_images/'+file, model)\n",
    "    print(file,'\\t\\t' ,y)"
   ]
  },
  {
   "cell_type": "code",
   "execution_count": null,
   "id": "8fdb2fe1",
   "metadata": {},
   "outputs": [],
   "source": []
  }
 ],
 "metadata": {
  "kernelspec": {
   "display_name": "Python [conda env:tf_env_16]",
   "language": "python",
   "name": "conda-env-tf_env_16-py"
  },
  "language_info": {
   "codemirror_mode": {
    "name": "ipython",
    "version": 3
   },
   "file_extension": ".py",
   "mimetype": "text/x-python",
   "name": "python",
   "nbconvert_exporter": "python",
   "pygments_lexer": "ipython3",
   "version": "3.8.13"
  }
 },
 "nbformat": 4,
 "nbformat_minor": 5
}
